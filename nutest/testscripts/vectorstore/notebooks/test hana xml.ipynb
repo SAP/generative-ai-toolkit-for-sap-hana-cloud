{
 "cells": [
  {
   "cell_type": "code",
   "execution_count": 1,
   "metadata": {},
   "outputs": [],
   "source": [
    "from hana_ml import dataframe\n",
    "\n",
    "url, port, user = \"hana-ml-api.hana-ml.c.ap-cn-1.cloud.sap\", 30115, \"PAL_TEST\"\n",
    "connection_context = dataframe.ConnectionContext(url, port, user)"
   ]
  },
  {
   "cell_type": "code",
   "execution_count": 12,
   "metadata": {},
   "outputs": [
    {
     "name": "stderr",
     "output_type": "stream",
     "text": [
      "100%|██████████| 1/1 [00:00<00:00,  2.56it/s]\n"
     ]
    }
   ],
   "source": [
    "import pandas as pd\n",
    "\n",
    "df = dataframe.create_dataframe_from_pandas(connection_context,\n",
    "                                            pandas_df=pd.DataFrame({\"XML\": ['<root><element>value1</element></root>', '<root><element>value2</element></root>']}),\n",
    "                                            table_name='XML_TABLE',\n",
    "                                            force=True)"
   ]
  },
  {
   "cell_type": "code",
   "execution_count": 13,
   "metadata": {},
   "outputs": [
    {
     "data": {
      "text/html": [
       "<div>\n",
       "<style scoped>\n",
       "    .dataframe tbody tr th:only-of-type {\n",
       "        vertical-align: middle;\n",
       "    }\n",
       "\n",
       "    .dataframe tbody tr th {\n",
       "        vertical-align: top;\n",
       "    }\n",
       "\n",
       "    .dataframe thead th {\n",
       "        text-align: right;\n",
       "    }\n",
       "</style>\n",
       "<table border=\"1\" class=\"dataframe\">\n",
       "  <thead>\n",
       "    <tr style=\"text-align: right;\">\n",
       "      <th></th>\n",
       "      <th>XML</th>\n",
       "    </tr>\n",
       "  </thead>\n",
       "  <tbody>\n",
       "    <tr>\n",
       "      <th>0</th>\n",
       "      <td>&lt;root&gt;&lt;element&gt;value1&lt;/element&gt;&lt;/root&gt;</td>\n",
       "    </tr>\n",
       "    <tr>\n",
       "      <th>1</th>\n",
       "      <td>&lt;root&gt;&lt;element&gt;value2&lt;/element&gt;&lt;/root&gt;</td>\n",
       "    </tr>\n",
       "  </tbody>\n",
       "</table>\n",
       "</div>"
      ],
      "text/plain": [
       "                                      XML\n",
       "0  <root><element>value1</element></root>\n",
       "1  <root><element>value2</element></root>"
      ]
     },
     "execution_count": 13,
     "metadata": {},
     "output_type": "execute_result"
    }
   ],
   "source": [
    "df.collect()"
   ]
  },
  {
   "cell_type": "code",
   "execution_count": 14,
   "metadata": {},
   "outputs": [
    {
     "data": {
      "text/html": [
       "<div>\n",
       "<style scoped>\n",
       "    .dataframe tbody tr th:only-of-type {\n",
       "        vertical-align: middle;\n",
       "    }\n",
       "\n",
       "    .dataframe tbody tr th {\n",
       "        vertical-align: top;\n",
       "    }\n",
       "\n",
       "    .dataframe thead th {\n",
       "        text-align: right;\n",
       "    }\n",
       "</style>\n",
       "<table border=\"1\" class=\"dataframe\">\n",
       "  <thead>\n",
       "    <tr style=\"text-align: right;\">\n",
       "      <th></th>\n",
       "      <th>XML</th>\n",
       "      <th>ELEMENT_VALUE</th>\n",
       "    </tr>\n",
       "  </thead>\n",
       "  <tbody>\n",
       "    <tr>\n",
       "      <th>0</th>\n",
       "      <td>&lt;root&gt;&lt;element&gt;value1&lt;/element&gt;&lt;/root&gt;</td>\n",
       "      <td>value1</td>\n",
       "    </tr>\n",
       "    <tr>\n",
       "      <th>1</th>\n",
       "      <td>&lt;root&gt;&lt;element&gt;value2&lt;/element&gt;&lt;/root&gt;</td>\n",
       "      <td>value1</td>\n",
       "    </tr>\n",
       "    <tr>\n",
       "      <th>2</th>\n",
       "      <td>&lt;root&gt;&lt;element&gt;value1&lt;/element&gt;&lt;/root&gt;</td>\n",
       "      <td>value2</td>\n",
       "    </tr>\n",
       "    <tr>\n",
       "      <th>3</th>\n",
       "      <td>&lt;root&gt;&lt;element&gt;value2&lt;/element&gt;&lt;/root&gt;</td>\n",
       "      <td>value2</td>\n",
       "    </tr>\n",
       "  </tbody>\n",
       "</table>\n",
       "</div>"
      ],
      "text/plain": [
       "                                      XML ELEMENT_VALUE\n",
       "0  <root><element>value1</element></root>        value1\n",
       "1  <root><element>value2</element></root>        value1\n",
       "2  <root><element>value1</element></root>        value2\n",
       "3  <root><element>value2</element></root>        value2"
      ]
     },
     "execution_count": 14,
     "metadata": {},
     "output_type": "execute_result"
    }
   ],
   "source": [
    "connection_context.sql(\"\"\"\n",
    "SELECT *\n",
    "FROM \n",
    "    XML_TABLE,\n",
    "    XMLTABLE('/root' PASSING \n",
    "        XML_TABLE.XML\n",
    "    COLUMNS \n",
    "        element_value  VARCHAR(100) PATH 'element'\n",
    "    ) AS t;\n",
    "                       \"\"\").collect()"
   ]
  }
 ],
 "metadata": {
  "kernelspec": {
   "display_name": "base",
   "language": "python",
   "name": "python3"
  },
  "language_info": {
   "codemirror_mode": {
    "name": "ipython",
    "version": 3
   },
   "file_extension": ".py",
   "mimetype": "text/x-python",
   "name": "python",
   "nbconvert_exporter": "python",
   "pygments_lexer": "ipython3",
   "version": "3.11.6"
  }
 },
 "nbformat": 4,
 "nbformat_minor": 2
}
