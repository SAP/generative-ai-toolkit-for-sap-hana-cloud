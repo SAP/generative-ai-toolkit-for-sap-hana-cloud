{
 "cells": [
  {
   "cell_type": "code",
   "execution_count": 2,
   "metadata": {},
   "outputs": [],
   "source": [
    "from gen_ai_hub.proxy.core.proxy_clients import set_proxy_version\n",
    "\n",
    "#use btp proxy llm\n",
    "\n",
    "\n"
   ]
  },
  {
   "cell_type": "code",
   "execution_count": 3,
   "metadata": {},
   "outputs": [],
   "source": [
    "from gen_ai_hub.proxy.langchain import init_llm\n",
    "from hana_ai.vectorstore.embedding_service import GenAIHubEmbeddings\n",
    "llm = init_llm('gpt-4', temperature=0.0, max_tokens=512)\n",
    "embed_model = GenAIHubEmbeddings(url='http://ls3085.wdf.sap.corp:7880/embedding')"
   ]
  },
  {
   "cell_type": "code",
   "execution_count": 4,
   "metadata": {},
   "outputs": [],
   "source": [
    "from hana_ai.vectorstore.llama_index_pdf_reader import LlamaIndexPdfReader\n",
    "\n",
    "llama_index_pdf_reader = LlamaIndexPdfReader(llm=llm, embedding_function=embed_model)"
   ]
  },
  {
   "cell_type": "code",
   "execution_count": 5,
   "metadata": {},
   "outputs": [
    {
     "data": {
      "application/vnd.jupyter.widget-view+json": {
       "model_id": "d0db7a5a98794252b1f73884639e8435",
       "version_major": 2,
       "version_minor": 0
      },
      "text/plain": [
       "Generating embeddings:   0%|          | 0/1071 [00:00<?, ?it/s]"
      ]
     },
     "metadata": {},
     "output_type": "display_data"
    }
   ],
   "source": [
    "llama_index_pdf_reader.create_sentence_index(path=\"./hana sql.pdf\", persist_path=\"hanasql.db\", show_progress=True)"
   ]
  },
  {
   "cell_type": "code",
   "execution_count": 11,
   "metadata": {},
   "outputs": [],
   "source": [
    "llama_index_pdf_reader.load_from_files(file_path=\"hanasql.db\")"
   ]
  },
  {
   "cell_type": "code",
   "execution_count": 12,
   "metadata": {},
   "outputs": [],
   "source": [
    "result = llama_index_pdf_reader.query(\"How to get max value?\")"
   ]
  },
  {
   "cell_type": "code",
   "execution_count": 13,
   "metadata": {},
   "outputs": [
    {
     "data": {
      "text/plain": [
       "'To get the maximum value, you can use the function provided in the custom documentation. This function returns the maximum value of the expression. It can also be used as a window function. The input data for the function is specified by the expression. If used as a window function, a window on the data over which the function operates is defined by the window specification.'"
      ]
     },
     "execution_count": 13,
     "metadata": {},
     "output_type": "execute_result"
    }
   ],
   "source": [
    "result"
   ]
  }
 ],
 "metadata": {
  "kernelspec": {
   "display_name": "base",
   "language": "python",
   "name": "python3"
  },
  "language_info": {
   "codemirror_mode": {
    "name": "ipython",
    "version": 3
   },
   "file_extension": ".py",
   "mimetype": "text/x-python",
   "name": "python",
   "nbconvert_exporter": "python",
   "pygments_lexer": "ipython3",
   "version": "3.11.6"
  }
 },
 "nbformat": 4,
 "nbformat_minor": 2
}
