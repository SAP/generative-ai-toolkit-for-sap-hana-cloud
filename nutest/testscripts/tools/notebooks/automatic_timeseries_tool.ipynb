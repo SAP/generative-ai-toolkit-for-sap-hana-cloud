{
 "cells": [
  {
   "cell_type": "code",
   "execution_count": 1,
   "metadata": {},
   "outputs": [],
   "source": [
    "from hana_ml import dataframe\n",
    "\n",
    "url, port, user, pwd = \"810070ba-df1a-4553-9a82-23690dc0158e.hana.demo-hc-3-haas-hc-dev.dev-aws.hanacloud.ondemand.com\", 443, \"PALDEVUSER\", \"Abcd1234\"\n",
    "cc = dataframe.ConnectionContext(url, port, user, pwd)\n",
    "\n"
   ]
  },
  {
   "cell_type": "code",
   "execution_count": 3,
   "metadata": {},
   "outputs": [],
   "source": [
    "from hana_ai.tools.hana_ml_tools.automatic_timeseries_tools import AutomaticTimeSeriesFitAndSave\n",
    "atfs_tool = AutomaticTimeSeriesFitAndSave(cc)"
   ]
  },
  {
   "cell_type": "code",
   "execution_count": 4,
   "metadata": {},
   "outputs": [
    {
     "name": "stderr",
     "output_type": "stream",
     "text": [
      "WARNING:hana_ml.algorithms.pal.auto_ml:The workload class name cannot be found in the HANA settings.\n"
     ]
    },
    {
     "data": {
      "text/plain": [
       "'{\"trained_table\": \"SHAMPOO_SALES_DATA_TBL\", \"model_storage_name\": \"my_model\", \"model_storage_version\": \"1\"}'"
      ]
     },
     "execution_count": 4,
     "metadata": {},
     "output_type": "execute_result"
    }
   ],
   "source": [
    "atfs_tool.run(tool_input={\"name\": \"my_model\", \"version\": \"1\", \"fit_table\": \"SHAMPOO_SALES_DATA_TBL\", \"key\": \"ID\", \"endog\": \"SALES\", \"workload_class\": \"myworkloadclass\"})"
   ]
  },
  {
   "cell_type": "code",
   "execution_count": null,
   "metadata": {},
   "outputs": [],
   "source": [
    "from hana_ai.tools.hana_ml_tools.automatic_timeseries_tools import AutomaticTimeseriesLoadModelAndPredict\n",
    "\n",
    "atli_tool = AutomaticTimeseriesLoadModelAndPredict(cc)"
   ]
  },
  {
   "cell_type": "code",
   "execution_count": null,
   "metadata": {},
   "outputs": [],
   "source": [
    "from langchain.agents import initialize_agent, AgentType\n",
    "from gen_ai_hub.proxy.langchain import init_llm\n",
    "llm = init_llm('gpt-4', temperature=0.0, max_tokens=2000) # used to do logical reasoning\n",
    "tools = [atfs_tool, atli_tool] # Add any tools here\n",
    "agent_chain = initialize_agent(tools, llm, agent=AgentType.STRUCTURED_CHAT_ZERO_SHOT_REACT_DESCRIPTION)"
   ]
  },
  {
   "cell_type": "code",
   "execution_count": null,
   "metadata": {},
   "outputs": [],
   "source": [
    "agent_chain.invoke(\"I want to create a model that predicts shampoo sales on the table SHAMPOO_SALES_DATA_TBL and save as my_model with version 1. Use workload class myworkloadclass. Key is ID and endog is SALES\")"
   ]
  }
 ],
 "metadata": {
  "kernelspec": {
   "display_name": "base",
   "language": "python",
   "name": "python3"
  },
  "language_info": {
   "codemirror_mode": {
    "name": "ipython",
    "version": 3
   },
   "file_extension": ".py",
   "mimetype": "text/x-python",
   "name": "python",
   "nbconvert_exporter": "python",
   "pygments_lexer": "ipython3",
   "version": "3.11.6"
  }
 },
 "nbformat": 4,
 "nbformat_minor": 2
}
