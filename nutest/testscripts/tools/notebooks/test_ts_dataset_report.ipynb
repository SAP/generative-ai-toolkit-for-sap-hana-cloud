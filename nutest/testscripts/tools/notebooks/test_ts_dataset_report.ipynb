{
 "cells": [
  {
   "cell_type": "code",
   "execution_count": 1,
   "metadata": {},
   "outputs": [],
   "source": [
    "from hana_ml import dataframe\n",
    "\n",
    "url, port, user, pwd = \"810070ba-df1a-4553-9a82-23690dc0158e.hana.demo-hc-3-haas-hc-dev.dev-aws.hanacloud.ondemand.com\", 443, \"PALDEVUSER\", \"Abcd1234\"\n",
    "cc = dataframe.ConnectionContext(url, port, user, pwd)\n",
    "\n"
   ]
  },
  {
   "cell_type": "code",
   "execution_count": 2,
   "metadata": {},
   "outputs": [],
   "source": [
    "from hana_ai.tools.hana_ml_tools.ts_visualizer_tools import TimeSeriesDatasetReport\n",
    "ts_report_tool = TimeSeriesDatasetReport(cc)"
   ]
  },
  {
   "cell_type": "code",
   "execution_count": 5,
   "metadata": {},
   "outputs": [],
   "source": [
    "from langchain.agents import initialize_agent, AgentType\n",
    "from gen_ai_hub.proxy.langchain import init_llm\n",
    "llm = init_llm('gpt-4', temperature=0.0, max_tokens=2000) # used to do logical reasoning\n",
    "tools = [ts_report_tool] # Add any tools here\n",
    "agent_chain = initialize_agent(tools, llm, agent=AgentType.STRUCTURED_CHAT_ZERO_SHOT_REACT_DESCRIPTION)\n"
   ]
  },
  {
   "cell_type": "markdown",
   "metadata": {},
   "source": []
  },
  {
   "cell_type": "code",
   "execution_count": 7,
   "metadata": {},
   "outputs": [
    {
     "data": {
      "text/plain": [
       "{'input': 'I want to analyze the table SHAMPOO_SALES_DATA_TBL',\n",
       " 'output': 'To generate a timeseries report for the table SHAMPOO_SALES_DATA_TBL, I need more information. Could you please provide the key and endog of the dataset?'}"
      ]
     },
     "execution_count": 7,
     "metadata": {},
     "output_type": "execute_result"
    }
   ],
   "source": [
    "agent_chain.invoke(\"I want to analyze the table SHAMPOO_SALES_DATA_TBL\")"
   ]
  },
  {
   "cell_type": "code",
   "execution_count": 8,
   "metadata": {},
   "outputs": [
    {
     "name": "stderr",
     "output_type": "stream",
     "text": [
      "100%|██████████| 8/8 [00:19<00:00,  2.46s/it]\n"
     ]
    },
    {
     "data": {
      "text/plain": [
       "{'input': 'I want to analyze the table SHAMPOO_SALES_DATA_TBL, key is ID, endog is SALES',\n",
       " 'output': 'C:\\\\Users\\\\I308290\\\\AppData\\\\Local\\\\Temp\\\\hanaml_chart\\\\SHAMPOO_SALES_DATA_TBL_ts_report.html'}"
      ]
     },
     "execution_count": 8,
     "metadata": {},
     "output_type": "execute_result"
    }
   ],
   "source": [
    "agent_chain.invoke(\"I want to analyze the table SHAMPOO_SALES_DATA_TBL, key is ID, endog is SALES\")"
   ]
  }
 ],
 "metadata": {
  "kernelspec": {
   "display_name": "base",
   "language": "python",
   "name": "python3"
  },
  "language_info": {
   "codemirror_mode": {
    "name": "ipython",
    "version": 3
   },
   "file_extension": ".py",
   "mimetype": "text/x-python",
   "name": "python",
   "nbconvert_exporter": "python",
   "pygments_lexer": "ipython3",
   "version": "3.11.6"
  }
 },
 "nbformat": 4,
 "nbformat_minor": 2
}
