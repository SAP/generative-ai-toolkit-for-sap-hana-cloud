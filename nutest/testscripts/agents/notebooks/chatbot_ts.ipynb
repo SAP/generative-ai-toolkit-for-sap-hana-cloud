{
 "cells": [
  {
   "cell_type": "code",
   "execution_count": 1,
   "metadata": {},
   "outputs": [],
   "source": [
    "from gen_ai_hub.proxy.langchain import init_llm\n",
    "\n",
    "code_llm = init_llm('gpt-4', temperature=0.0, max_tokens=2000) # used to do logical reasoning\n",
    "chat_llm = init_llm('gpt-35-turbo', temperature=0.0, max_tokens=2000) #used to summarize history chat, refine response"
   ]
  },
  {
   "cell_type": "code",
   "execution_count": null,
   "metadata": {},
   "outputs": [],
   "source": [
    "from hana_ml import dataframe\n",
    "url, port, user, pwd = \"810070ba-df1a-4553-9a82-23690dc0158e.hana.demo-hc-3-haas-hc-dev.dev-aws.hanacloud.ondemand.com\", 443, \"PALDEVUSER\", \"Abcd1234\"\n",
    "connection_context = dataframe.ConnectionContext(url, port, user, pwd)"
   ]
  },
  {
   "cell_type": "markdown",
   "metadata": {},
   "source": [
    "<img src=\"chatagent.png\"/>"
   ]
  },
  {
   "cell_type": "code",
   "execution_count": null,
   "metadata": {},
   "outputs": [],
   "source": [
    "#Chat Agent will help you guide you to do data science tasks via conversation\n",
    "\n",
    "from hana_ai.agents.scenario_agents import HANAChatAgent\n",
    "\n",
    "agent = HANAChatAgent(chat_llm=chat_llm,\n",
    "                      code_llm=code_llm,\n",
    "                      connection_context=connection_context,\n",
    "                      verbose=False,\n",
    "                      show_prompt=False,\n",
    "                      force=True) #automatically load code templates"
   ]
  },
  {
   "cell_type": "code",
   "execution_count": null,
   "metadata": {},
   "outputs": [],
   "source": [
    "agent.chat(\"I want to create an additive model forecast model on the AMF TRAIN table\")"
   ]
  },
  {
   "cell_type": "code",
   "execution_count": null,
   "metadata": {},
   "outputs": [],
   "source": [
    "agent.chat(\"id column is INDEX and the endog is Y\")"
   ]
  },
  {
   "cell_type": "code",
   "execution_count": null,
   "metadata": {},
   "outputs": [],
   "source": [
    "agent.chat(\"train the model using AMF_TRAIN table\")"
   ]
  },
  {
   "cell_type": "code",
   "execution_count": null,
   "metadata": {},
   "outputs": [],
   "source": [
    "agent.chat(\"I want to generate cap artifacts, my project name is MyProject and output dir is cap_artifacts\")"
   ]
  },
  {
   "cell_type": "code",
   "execution_count": null,
   "metadata": {},
   "outputs": [],
   "source": [
    "agent.chat(\"predict AMF_TEST table, using addtive model forecast model, the key is INDEX\")"
   ]
  },
  {
   "cell_type": "code",
   "execution_count": null,
   "metadata": {},
   "outputs": [],
   "source": [
    "agent.chat(\"visualize the prediction result using forecast line plot and compared with the actual table AMF_TRAIN\")"
   ]
  }
 ],
 "metadata": {
  "kernelspec": {
   "display_name": "base",
   "language": "python",
   "name": "python3"
  },
  "language_info": {
   "codemirror_mode": {
    "name": "ipython",
    "version": 3
   },
   "file_extension": ".py",
   "mimetype": "text/x-python",
   "name": "python",
   "nbconvert_exporter": "python",
   "pygments_lexer": "ipython3",
   "version": "3.11.6"
  }
 },
 "nbformat": 4,
 "nbformat_minor": 2
}
