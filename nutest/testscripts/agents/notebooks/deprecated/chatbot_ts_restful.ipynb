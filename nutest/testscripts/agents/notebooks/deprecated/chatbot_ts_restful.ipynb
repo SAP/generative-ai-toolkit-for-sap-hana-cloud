{
 "cells": [
  {
   "cell_type": "code",
   "execution_count": 6,
   "metadata": {},
   "outputs": [
    {
     "name": "stdout",
     "output_type": "stream",
     "text": [
      "I am an artificial intelligence designed by OpenAI. I'm here to assist you with any questions or tasks you have.\n"
     ]
    }
   ],
   "source": [
    "import requests\n",
    "\n",
    "query1 = \"who are you?\"\n",
    "response = requests.post('http://localhost:5566/chat', json={'query': query1})\n",
    "print(response.json())"
   ]
  },
  {
   "cell_type": "code",
   "execution_count": 11,
   "metadata": {},
   "outputs": [
    {
     "name": "stdout",
     "output_type": "stream",
     "text": [
      "Based on the data characteristics provided, the shampoo sales data is non-stationary with an upward trend and multiplicative seasonality. Therefore, a model that can handle these characteristics is needed. \n",
      "\n",
      "The ARIMA (Autoregressive Integrated Moving Average) model is a good choice for this kind of data. It is a generalization of the simpler AutoRegressive Moving Average and adds the notion of integration. This addresses the non-stationarity of the data.\n",
      "\n",
      "However, since the data also has a multiplicative seasonality, a Seasonal ARIMA (SARIMA) model would be more appropriate. The SARIMA model includes extra parameters to specifically model the seasonal component of the series.\n",
      "\n",
      "In summary, you should use a SARIMA model for the shampoo sales data. You will need to tune the parameters of the model to best fit your data.\n"
     ]
    }
   ],
   "source": [
    "query2 = \"I want to create an timeseries model on the shampoo sales table on the schema PALDEVUSER, could you suggest me which model should I use?\"\n",
    "response = requests.post('http://localhost:5566/chat', json={'query': query2})\n",
    "print(response.json())"
   ]
  },
  {
   "cell_type": "code",
   "execution_count": 12,
   "metadata": {},
   "outputs": [
    {
     "name": "stdout",
     "output_type": "stream",
     "text": [
      "Sure! To train an ARIMA model on the shampoo sales table, you will need to specify the id column and the endogenous column. Can you provide those details so I can assist you further?\n"
     ]
    }
   ],
   "source": [
    "query3 = \"I want to train an arima model on the shampoo sales table.\"\n",
    "response = requests.post('http://localhost:5566/chat', json={'query': query3})\n",
    "print(response.json())"
   ]
  },
  {
   "cell_type": "code",
   "execution_count": 13,
   "metadata": {},
   "outputs": [
    {
     "name": "stdout",
     "output_type": "stream",
     "text": [
      "The ID column and the endogenous column from the user question are \"ID\" and \"SALES\". The user question does not indicate any changes to the scenario type, ID column, or the endogenous column. Therefore, the scenario type is \"timeseries\", the ID column is \"ID\", and the endogenous column is \"SALES\".\n"
     ]
    }
   ],
   "source": [
    "query4 = \"id column is ID and the endog is SALES, and the workload class is myworkload\"\n",
    "response = requests.post('http://localhost:5566/chat', json={'query': query4})\n",
    "print(response.json())"
   ]
  },
  {
   "cell_type": "code",
   "execution_count": 14,
   "metadata": {},
   "outputs": [
    {
     "name": "stdout",
     "output_type": "stream",
     "text": [
      "It looks like you are referring to training a model using the PAL_AUTOARIMA algorithm. The model and fit tables have been generated, and the Python object address is also provided. If you have any specific questions or need further assistance with training the model, feel free to ask!\n",
      "Output tables: ['#PAL_AUTOARIMA_MODEL_TBL_1_FF58C6F7_ED16_11EF_BB7A_F47B099F40D8', '#PAL_AUTOARIMA_FIT_TBL_1_FF58C6F7_ED16_11EF_BB7A_F47B099F40D8']\n"
     ]
    }
   ],
   "source": [
    "query5 = \"train the model\"\n",
    "response = requests.post('http://localhost:5566/chat', json={'query': query5})\n",
    "print(response.json())"
   ]
  }
 ],
 "metadata": {
  "kernelspec": {
   "display_name": "base",
   "language": "python",
   "name": "python3"
  },
  "language_info": {
   "codemirror_mode": {
    "name": "ipython",
    "version": 3
   },
   "file_extension": ".py",
   "mimetype": "text/x-python",
   "name": "python",
   "nbconvert_exporter": "python",
   "pygments_lexer": "ipython3",
   "version": "3.11.6"
  }
 },
 "nbformat": 4,
 "nbformat_minor": 2
}
