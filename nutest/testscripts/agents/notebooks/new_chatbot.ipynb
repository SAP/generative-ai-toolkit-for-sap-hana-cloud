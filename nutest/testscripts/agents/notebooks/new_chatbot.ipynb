{
 "cells": [
  {
   "cell_type": "code",
   "execution_count": null,
   "metadata": {},
   "outputs": [],
   "source": [
    "from gen_ai_hub.proxy.langchain import init_llm\n",
    "from hana_ai.agents.chatbot_with_memory import ChatbotWithMemory\n",
    "from hana_ml import dataframe\n",
    "\n",
    "from hana_ai.tools.toolkit import HANAMLToolkit\n",
    "url, port, user, pwd = \"810070ba-df1a-4553-9a82-23690dc0158e.hana.demo-hc-3-haas-hc-dev.dev-aws.hanacloud.ondemand.com\", 443, \"PALDEVUSER\", \"Abcd1234\"\n",
    "connection_context = dataframe.ConnectionContext(url, port, user, pwd)\n",
    "\n",
    "llm = init_llm('gpt-4', temperature=0.0, max_tokens=600)\n",
    "tools = HANAMLToolkit(connection_context, used_tools='all').get_tools()\n",
    "chatbot = ChatbotWithMemory(llm=llm, toos=tools, session_id='hana_ai_test', n_messages=10)"
   ]
  },
  {
   "cell_type": "code",
   "execution_count": 2,
   "metadata": {},
   "outputs": [
    {
     "name": "stderr",
     "output_type": "stream",
     "text": [
      "WARNING:langchain_core.tracers.base:Parent run 90c7206e-4840-4682-afb2-579d7122ef27 not found for run 5f4848e1-3542-40d8-a427-0354e17c3209. Treating as a root run.\n"
     ]
    },
    {
     "data": {
      "text/plain": [
       "{'input': ChatPromptValue(messages=[SystemMessage(content=\"You're an assistant who's good at data science. You need to ask the user for the missing information to use hana-ml tools.\"), HumanMessage(content='I want to check the time series data SHAMPOO_SALES_DATA_TBL')]),\n",
       " 'output': 'Could you please provide the key and endog of the dataset in SHAMPOO_SALES_DATA_TBL?'}"
      ]
     },
     "execution_count": 2,
     "metadata": {},
     "output_type": "execute_result"
    }
   ],
   "source": [
    "chatbot.chat(\"I want to check the time series data SHAMPOO_SALES_DATA_TBL\")"
   ]
  },
  {
   "cell_type": "code",
   "execution_count": 3,
   "metadata": {},
   "outputs": [
    {
     "name": "stderr",
     "output_type": "stream",
     "text": [
      "WARNING:langchain_core.tracers.base:Parent run 1fc6f2ef-efc5-4d30-b402-10063042c926 not found for run 7563e86a-a170-4f0d-878a-0f13930def81. Treating as a root run.\n"
     ]
    },
    {
     "data": {
      "text/plain": [
       "{'input': ChatPromptValue(messages=[SystemMessage(content=\"You're an assistant who's good at data science. You need to ask the user for the missing information to use hana-ml tools.\"), HumanMessage(content='I want to check the time series data SHAMPOO_SALES_DATA_TBL'), AIMessage(content='Could you please provide the key and endog of the dataset in SHAMPOO_SALES_DATA_TBL?'), HumanMessage(content='yes. the key is ID and the target is SALES')]),\n",
       " 'output': \"Intermittent Test: proportion of zero values is 0.0\\nStationarity Test: The stationary is 0.The kpss_stat is 0.463502.The p-value is 0.049886869881164.The lags is 9.The number of observations is 36.The critical values is {'10%': 0.347, '5%': 0.463, '2.5%': 0.574, '1%': 0.739}.\\nTrend Test: Upward trend.\\nSeasonality Test: The type is multiplicative.The period is 2.The acf is 0.515912.\"}"
      ]
     },
     "execution_count": 3,
     "metadata": {},
     "output_type": "execute_result"
    }
   ],
   "source": [
    "chatbot.chat(\"yes. the key is ID and the target is SALES\")"
   ]
  },
  {
   "cell_type": "code",
   "execution_count": 4,
   "metadata": {},
   "outputs": [
    {
     "name": "stderr",
     "output_type": "stream",
     "text": [
      "WARNING:langchain_core.tracers.base:Parent run 8b8b36ed-c61e-42ed-a2c8-ed694a4ea703 not found for run 86f38798-416e-48f0-8a82-22a7ebac99cc. Treating as a root run.\n"
     ]
    },
    {
     "data": {
      "text/plain": [
       "{'input': ChatPromptValue(messages=[SystemMessage(content=\"You're an assistant who's good at data science. You need to ask the user for the missing information to use hana-ml tools.\"), HumanMessage(content='I want to check the time series data SHAMPOO_SALES_DATA_TBL'), AIMessage(content='Could you please provide the key and endog of the dataset in SHAMPOO_SALES_DATA_TBL?'), HumanMessage(content='yes. the key is ID and the target is SALES'), AIMessage(content=\"Intermittent Test: proportion of zero values is 0.0\\nStationarity Test: The stationary is 0.The kpss_stat is 0.463502.The p-value is 0.049886869881164.The lags is 9.The number of observations is 36.The critical values is {'10%': 0.347, '5%': 0.463, '2.5%': 0.574, '1%': 0.739}.\\nTrend Test: Upward trend.\\nSeasonality Test: The type is multiplicative.The period is 2.The acf is 0.515912.\"), HumanMessage(content='could you suggest the model for me based on the check result?')]),\n",
       " 'output': 'Based on the check result, the data has an upward trend and multiplicative seasonality. Therefore, a model that can handle trend and seasonality would be suitable. I would suggest considering the additive model forecast or the automatic timeseries model. However, the final decision also depends on other factors such as the size of the dataset, the computational resources available, and the specific business context.'}"
      ]
     },
     "execution_count": 4,
     "metadata": {},
     "output_type": "execute_result"
    }
   ],
   "source": [
    "chatbot.chat(\"could you suggest the model for me based on the check result?\")"
   ]
  },
  {
   "cell_type": "code",
   "execution_count": 5,
   "metadata": {},
   "outputs": [
    {
     "name": "stderr",
     "output_type": "stream",
     "text": [
      "WARNING:langchain_core.tracers.base:Parent run b814e3df-b291-4c9c-85e6-8af2e6e057b8 not found for run b9d2f9fa-6f54-4500-ab8a-ad4c730111c7. Treating as a root run.\n"
     ]
    },
    {
     "data": {
      "text/plain": [
       "{'input': ChatPromptValue(messages=[SystemMessage(content=\"You're an assistant who's good at data science. You need to ask the user for the missing information to use hana-ml tools.\"), HumanMessage(content='I want to check the time series data SHAMPOO_SALES_DATA_TBL'), AIMessage(content='Could you please provide the key and endog of the dataset in SHAMPOO_SALES_DATA_TBL?'), HumanMessage(content='yes. the key is ID and the target is SALES'), AIMessage(content=\"Intermittent Test: proportion of zero values is 0.0\\nStationarity Test: The stationary is 0.The kpss_stat is 0.463502.The p-value is 0.049886869881164.The lags is 9.The number of observations is 36.The critical values is {'10%': 0.347, '5%': 0.463, '2.5%': 0.574, '1%': 0.739}.\\nTrend Test: Upward trend.\\nSeasonality Test: The type is multiplicative.The period is 2.The acf is 0.515912.\"), HumanMessage(content='could you suggest the model for me based on the check result?'), AIMessage(content='Based on the check result, the data has an upward trend and multiplicative seasonality. Therefore, a model that can handle trend and seasonality would be suitable. I would suggest considering the additive model forecast or the automatic timeseries model. However, the final decision also depends on other factors such as the size of the dataset, the computational resources available, and the specific business context.'), HumanMessage(content='Then please train the table using the suggested model for me and save as my_automl_model')]),\n",
       " 'output': '{\"trained_table\": \"SHAMPOO_SALES_DATA_TBL\", \"model_storage_name\": \"my_automl_model\", \"model_storage_version\": 6}'}"
      ]
     },
     "execution_count": 5,
     "metadata": {},
     "output_type": "execute_result"
    }
   ],
   "source": [
    "chatbot.chat(\"Then please train the table using the suggested model for me and save as my_automl_model\")"
   ]
  },
  {
   "cell_type": "code",
   "execution_count": 6,
   "metadata": {},
   "outputs": [
    {
     "name": "stderr",
     "output_type": "stream",
     "text": [
      "WARNING:langchain_core.tracers.base:Parent run cb1b53de-83cc-40a6-910c-422d52015a9f not found for run 534c0af6-66e0-4a48-bcb7-b8c493200766. Treating as a root run.\n"
     ]
    },
    {
     "data": {
      "text/plain": [
       "{'input': ChatPromptValue(messages=[SystemMessage(content=\"You're an assistant who's good at data science. You need to ask the user for the missing information to use hana-ml tools.\"), HumanMessage(content='I want to check the time series data SHAMPOO_SALES_DATA_TBL'), AIMessage(content='Could you please provide the key and endog of the dataset in SHAMPOO_SALES_DATA_TBL?'), HumanMessage(content='yes. the key is ID and the target is SALES'), AIMessage(content=\"Intermittent Test: proportion of zero values is 0.0\\nStationarity Test: The stationary is 0.The kpss_stat is 0.463502.The p-value is 0.049886869881164.The lags is 9.The number of observations is 36.The critical values is {'10%': 0.347, '5%': 0.463, '2.5%': 0.574, '1%': 0.739}.\\nTrend Test: Upward trend.\\nSeasonality Test: The type is multiplicative.The period is 2.The acf is 0.515912.\"), HumanMessage(content='could you suggest the model for me based on the check result?'), AIMessage(content='Based on the check result, the data has an upward trend and multiplicative seasonality. Therefore, a model that can handle trend and seasonality would be suitable. I would suggest considering the additive model forecast or the automatic timeseries model. However, the final decision also depends on other factors such as the size of the dataset, the computational resources available, and the specific business context.'), HumanMessage(content='Then please train the table using the suggested model for me and save as my_automl_model'), AIMessage(content='{\"trained_table\": \"SHAMPOO_SALES_DATA_TBL\", \"model_storage_name\": \"my_automl_model\", \"model_storage_version\": 6}'), HumanMessage(content='I want to predict the sales for the next 3 months')]),\n",
       " 'output': 'Could you please provide the table name for the prediction?'}"
      ]
     },
     "execution_count": 6,
     "metadata": {},
     "output_type": "execute_result"
    }
   ],
   "source": [
    "chatbot.chat(\"I want to predict the sales for the next 3 months\")"
   ]
  },
  {
   "cell_type": "code",
   "execution_count": 7,
   "metadata": {},
   "outputs": [
    {
     "name": "stderr",
     "output_type": "stream",
     "text": [
      "WARNING:langchain_core.tracers.base:Parent run c11f3bd3-b59e-4c73-b5aa-ded28e602184 not found for run 335b4946-578a-4656-914e-346de388a4ac. Treating as a root run.\n",
      "WARNING:langchain_core.tracers.base:Parent run edc8b80c-d150-436b-b653-e77543229606 not found for run d8764bf6-046f-4f13-8765-0c3d2bfc2c37. Treating as a root run.\n"
     ]
    },
    {
     "data": {
      "text/plain": [
       "{'input': ChatPromptValue(messages=[SystemMessage(content=\"You're an assistant who's good at data science. You need to ask the user for the missing information to use hana-ml tools.\"), HumanMessage(content='I want to check the time series data SHAMPOO_SALES_DATA_TBL'), AIMessage(content='Could you please provide the key and endog of the dataset in SHAMPOO_SALES_DATA_TBL?'), HumanMessage(content='yes. the key is ID and the target is SALES'), AIMessage(content=\"Intermittent Test: proportion of zero values is 0.0\\nStationarity Test: The stationary is 0.The kpss_stat is 0.463502.The p-value is 0.049886869881164.The lags is 9.The number of observations is 36.The critical values is {'10%': 0.347, '5%': 0.463, '2.5%': 0.574, '1%': 0.739}.\\nTrend Test: Upward trend.\\nSeasonality Test: The type is multiplicative.The period is 2.The acf is 0.515912.\"), HumanMessage(content='could you suggest the model for me based on the check result?'), AIMessage(content='Based on the check result, the data has an upward trend and multiplicative seasonality. Therefore, a model that can handle trend and seasonality would be suitable. I would suggest considering the additive model forecast or the automatic timeseries model. However, the final decision also depends on other factors such as the size of the dataset, the computational resources available, and the specific business context.'), HumanMessage(content='Then please train the table using the suggested model for me and save as my_automl_model'), AIMessage(content='{\"trained_table\": \"SHAMPOO_SALES_DATA_TBL\", \"model_storage_name\": \"my_automl_model\", \"model_storage_version\": 6}'), HumanMessage(content='I want to predict the sales for the next 3 months'), AIMessage(content='Could you please provide the table name for the prediction?'), HumanMessage(content='The question is `I want to generate CAP artifacts, the project name is my_project and output path is /tmp`.The error message is `2 validation errors for CAPArtifactsInput\\nname\\n  field required (type=value_error.missing)\\nversion\\n  field required (type=value_error.missing)`. Please analyze the error message and provide the solution.')]),\n",
       " 'output': \"The error message indicates that the 'name' and 'version' fields are missing. These fields are required to generate CAP artifacts. Could you please provide the name and version of the model in model storage?\"}"
      ]
     },
     "execution_count": 7,
     "metadata": {},
     "output_type": "execute_result"
    }
   ],
   "source": [
    "chatbot.chat(\"I want to generate CAP artifacts, the project name is my_project and output path is /tmp\")"
   ]
  },
  {
   "cell_type": "code",
   "execution_count": 12,
   "metadata": {},
   "outputs": [
    {
     "name": "stderr",
     "output_type": "stream",
     "text": [
      "WARNING:langchain_core.tracers.base:Parent run ea53b645-6675-4098-84ba-12eca869d595 not found for run b6d08e8b-c490-4ccc-9b98-32a01cfa632b. Treating as a root run.\n"
     ]
    },
    {
     "data": {
      "text/plain": [
       "{'input': ChatPromptValue(messages=[SystemMessage(content=\"You're an assistant who's good at data science. You need to ask the user for the missing information to use hana-ml tools.\"), HumanMessage(content='I want to check the time series data SHAMPOO_SALES_DATA_TBL'), AIMessage(content='Could you please provide the key and endog of the dataset in SHAMPOO_SALES_DATA_TBL?'), HumanMessage(content='yes. the key is ID and the target is SALES'), AIMessage(content=\"Intermittent Test: proportion of zero values is 0.0\\nStationarity Test: The stationary is 0.The kpss_stat is 0.463502.The p-value is 0.049886869881164.The lags is 9.The number of observations is 36.The critical values is {'10%': 0.347, '5%': 0.463, '2.5%': 0.574, '1%': 0.739}.\\nTrend Test: Upward trend.\\nSeasonality Test: The type is multiplicative.The period is 2.The acf is 0.515912.\"), HumanMessage(content='could you suggest the model for me based on the check result?'), AIMessage(content='Based on the check result, the data has an upward trend and multiplicative seasonality. Therefore, a model that can handle trend and seasonality would be suitable. I would suggest considering the additive model forecast or the automatic timeseries model. However, the final decision also depends on other factors such as the size of the dataset, the computational resources available, and the specific business context.'), HumanMessage(content='Then please train the table using the suggested model for me and save as my_automl_model'), AIMessage(content='{\"trained_table\": \"SHAMPOO_SALES_DATA_TBL\", \"model_storage_name\": \"my_automl_model\", \"model_storage_version\": 6}'), HumanMessage(content='I want to predict the sales for the next 3 months'), AIMessage(content='Could you please provide the table name for the prediction?'), HumanMessage(content='The question is `I want to generate CAP artifacts, the project name is my_project and output path is /tmp`.The error message is `2 validation errors for CAPArtifactsInput\\nname\\n  field required (type=value_error.missing)\\nversion\\n  field required (type=value_error.missing)`. Please analyze the error message and provide the solution.'), AIMessage(content=\"The error message indicates that the 'name' and 'version' fields are missing. These fields are required to generate CAP artifacts. Could you please provide the name and version of the model in model storage?\"), HumanMessage(content=\"The question is `Sure, the mode name is my_automl_model and version is 5`.The error message is `(259, 'invalid table name:  Could not find table/view #PAL_AUTOML_BEST_PIPELINE_TBL_2_353AD592_FB18_11EF_8273_F47B099F40D8 in schema PALDEVUSER: line 1 col 15 (at pos 14)')`. Please analyze the error message and provide the solution.\"), AIMessage(content=\"The error message indicates that the table '#PAL_AUTOML_BEST_PIPELINE_TBL_2_353AD592_FB18_11EF_8273_F47B099F40D8' could not be found in the schema 'PALDEVUSER'. This could be due to the table not existing, or you not having the correct permissions to access the table. Please check if the table exists and if you have the correct permissions to access it. If the table does not exist, you may need to rerun the model training process to generate the necessary tables. If you do not have the correct permissions, you may need to request these from your database administrator.\"), HumanMessage(content='Sure, the mode name is my_automl_model and version is 6')]),\n",
       " 'output': 'CAP artifacts generated successfully. Root directory: /tmp\\\\my_project'}"
      ]
     },
     "execution_count": 12,
     "metadata": {},
     "output_type": "execute_result"
    }
   ],
   "source": [
    "chatbot.chat(\"Sure, the mode name is my_automl_model and version is 6\")"
   ]
  }
 ],
 "metadata": {
  "kernelspec": {
   "display_name": "base",
   "language": "python",
   "name": "python3"
  },
  "language_info": {
   "codemirror_mode": {
    "name": "ipython",
    "version": 3
   },
   "file_extension": ".py",
   "mimetype": "text/x-python",
   "name": "python",
   "nbconvert_exporter": "python",
   "pygments_lexer": "ipython3",
   "version": "3.11.6"
  }
 },
 "nbformat": 4,
 "nbformat_minor": 2
}
