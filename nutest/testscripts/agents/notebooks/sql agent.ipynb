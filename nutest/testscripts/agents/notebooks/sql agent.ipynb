{
 "cells": [
  {
   "cell_type": "code",
   "execution_count": 55,
   "metadata": {},
   "outputs": [],
   "source": [
    "from hana_ml import dataframe\n",
    "url, port, user = \"hana-ml-api.hana-ml.c.ap-cn-1.cloud.sap\", 30015, \"PAL_TEST\"\n",
    "connection_context = dataframe.ConnectionContext(url, port, user)"
   ]
  },
  {
   "cell_type": "code",
   "execution_count": 56,
   "metadata": {},
   "outputs": [],
   "source": [
    "from gen_ai_hub.proxy.core.proxy_clients import set_proxy_version\n",
    "from gen_ai_hub.proxy.langchain import init_llm\n",
    "#use btp proxy llm\n",
    "\n",
    "llm = init_llm('gpt-4', temperature=0.0, max_tokens=512)"
   ]
  },
  {
   "cell_type": "code",
   "execution_count": null,
   "metadata": {},
   "outputs": [
    {
     "name": "stderr",
     "output_type": "stream",
     "text": [
      "100%|██████████| 215/215 [00:10<00:00, 21.03it/s]\n",
      "100%|██████████| 2/2 [00:10<00:00,  5.40s/it]\n",
      "c:\\Users\\I308290\\AppData\\Local\\miniconda3\\Lib\\site-packages\\sqlalchemy_hana\\dialect.py:889: SAWarning: Did not recognize type 'REAL_VECTOR' of column 'embeddings'\n",
      "  util.warn(\n"
     ]
    }
   ],
   "source": [
    "\n",
    "from hana_ai.agents.hana_sql_agent import create_hana_sql_agent\n",
    "from hana_ai.tools.toolkit import HANAMLToolkit\n",
    "from hana_ai.vectorstore.code_templates import get_code_templates\n",
    "from hana_ai.vectorstore.embedding_service import GenAIHubEmbeddings\n",
    "from hana_ai.vectorstore.hana_vector_engine import HANAMLinVectorEngine\n",
    "\n",
    "toolkit = HANAMLToolkit(connection_context)\n",
    "embedding_func = GenAIHubEmbeddings()\n",
    "hana_vec = HANAMLinVectorEngine(connection_context, \"hana_vec_hana_ml_sql_knowledge\")\n",
    "hana_vec.create_knowledge(option='sql')\n",
    "toolkit.set_vectordb(hana_vec)\n",
    "agent_executor = create_hana_sql_agent(llm, connection_context, toolkit=toolkit,verbose=True)"
   ]
  },
  {
   "cell_type": "code",
   "execution_count": 58,
   "metadata": {},
   "outputs": [
    {
     "name": "stderr",
     "output_type": "stream",
     "text": [
      "96\n"
     ]
    },
    {
     "data": {
      "text/html": [
       "<div>\n",
       "<style scoped>\n",
       "    .dataframe tbody tr th:only-of-type {\n",
       "        vertical-align: middle;\n",
       "    }\n",
       "\n",
       "    .dataframe tbody tr th {\n",
       "        vertical-align: top;\n",
       "    }\n",
       "\n",
       "    .dataframe thead th {\n",
       "        text-align: right;\n",
       "    }\n",
       "</style>\n",
       "<table border=\"1\" class=\"dataframe\">\n",
       "  <thead>\n",
       "    <tr style=\"text-align: right;\">\n",
       "      <th></th>\n",
       "      <th>id</th>\n",
       "      <th>description</th>\n",
       "      <th>example</th>\n",
       "      <th>embeddings</th>\n",
       "    </tr>\n",
       "  </thead>\n",
       "  <tbody>\n",
       "    <tr>\n",
       "      <th>0</th>\n",
       "      <td>tutorial-dataset-f9e32f5</td>\n",
       "      <td>The tutorial dataset is a classification datas...</td>\n",
       "      <td>\\n\\nSET SCHEMA DM_PAL;\\n\\nDROP TABLE PAL_AUTOM...</td>\n",
       "      <td>[0, 3, 0, 0, 202, 255, 143, 188, 143, 8, 212, ...</td>\n",
       "    </tr>\n",
       "    <tr>\n",
       "      <th>1</th>\n",
       "      <td>unified-classification-8bd88cf</td>\n",
       "      <td>The unified classification interface is a new ...</td>\n",
       "      <td>\\n\\nSET SCHEMA DM_PAL;\\n\\nDROP TABLE  PAL_DATA...</td>\n",
       "      <td>[0, 3, 0, 0, 141, 199, 72, 189, 113, 157, 219,...</td>\n",
       "    </tr>\n",
       "    <tr>\n",
       "      <th>2</th>\n",
       "      <td>unified-classification-with-pivoted-input-data...</td>\n",
       "      <td>The content discusses a new unified interface ...</td>\n",
       "      <td>\\n\\nSET SCHEMA DM_PAL;\\n\\nDROP TABLE PAL_META_...</td>\n",
       "      <td>[0, 3, 0, 0, 219, 37, 228, 188, 102, 207, 7, 1...</td>\n",
       "    </tr>\n",
       "    <tr>\n",
       "      <th>3</th>\n",
       "      <td>unified-clustering-6870a0c</td>\n",
       "      <td>Unified clustering is a tool that provides a u...</td>\n",
       "      <td>\\n\\nSET SCHEMA DM_PAL;\\n\\nDROP TABLE MY_DATA_T...</td>\n",
       "      <td>[0, 3, 0, 0, 128, 220, 70, 189, 107, 2, 116, 1...</td>\n",
       "    </tr>\n",
       "    <tr>\n",
       "      <th>4</th>\n",
       "      <td>unified-clustering-with-pivoted-input-data-baa...</td>\n",
       "      <td>The content discusses unified clustering with ...</td>\n",
       "      <td>\\n\\nSET SCHEMA DM_PAL;\\n\\nDROP TABLE META_DATA...</td>\n",
       "      <td>[0, 3, 0, 0, 196, 11, 94, 189, 44, 173, 244, 1...</td>\n",
       "    </tr>\n",
       "  </tbody>\n",
       "</table>\n",
       "</div>"
      ],
      "text/plain": [
       "                                                  id  \\\n",
       "0                           tutorial-dataset-f9e32f5   \n",
       "1                     unified-classification-8bd88cf   \n",
       "2  unified-classification-with-pivoted-input-data...   \n",
       "3                         unified-clustering-6870a0c   \n",
       "4  unified-clustering-with-pivoted-input-data-baa...   \n",
       "\n",
       "                                         description  \\\n",
       "0  The tutorial dataset is a classification datas...   \n",
       "1  The unified classification interface is a new ...   \n",
       "2  The content discusses a new unified interface ...   \n",
       "3  Unified clustering is a tool that provides a u...   \n",
       "4  The content discusses unified clustering with ...   \n",
       "\n",
       "                                             example  \\\n",
       "0  \\n\\nSET SCHEMA DM_PAL;\\n\\nDROP TABLE PAL_AUTOM...   \n",
       "1  \\n\\nSET SCHEMA DM_PAL;\\n\\nDROP TABLE  PAL_DATA...   \n",
       "2  \\n\\nSET SCHEMA DM_PAL;\\n\\nDROP TABLE PAL_META_...   \n",
       "3  \\n\\nSET SCHEMA DM_PAL;\\n\\nDROP TABLE MY_DATA_T...   \n",
       "4  \\n\\nSET SCHEMA DM_PAL;\\n\\nDROP TABLE META_DATA...   \n",
       "\n",
       "                                          embeddings  \n",
       "0  [0, 3, 0, 0, 202, 255, 143, 188, 143, 8, 212, ...  \n",
       "1  [0, 3, 0, 0, 141, 199, 72, 189, 113, 157, 219,...  \n",
       "2  [0, 3, 0, 0, 219, 37, 228, 188, 102, 207, 7, 1...  \n",
       "3  [0, 3, 0, 0, 128, 220, 70, 189, 107, 2, 116, 1...  \n",
       "4  [0, 3, 0, 0, 196, 11, 94, 189, 44, 173, 244, 1...  "
      ]
     },
     "execution_count": 58,
     "metadata": {},
     "output_type": "execute_result"
    }
   ],
   "source": [
    "connection_context.table(\"hana_vec_hana_ml_sql_knowledge\").head(5).collect()"
   ]
  },
  {
   "cell_type": "code",
   "execution_count": 59,
   "metadata": {},
   "outputs": [
    {
     "name": "stdout",
     "output_type": "stream",
     "text": [
      "\n",
      "\n",
      "\u001b[1m> Entering new SQL Agent Executor chain...\u001b[0m\n",
      "\u001b[32;1m\u001b[1;3mI need to list all the tables in the database.\n",
      "Action: sql_db_list_tables\n",
      "Action Input: \"\"\u001b[0m\u001b[36;1m\u001b[1;3mboston_housing_prices, hana_vec_hana_ml_knowledge, hana_vec_hana_ml_sql_knowledge, iris_data_full_tbl, titanic_full_tbl\u001b[0m\u001b[32;1m\u001b[1;3mI now know the table names in the database.\n",
      "Final Answer: The table names in the database are: boston_housing_prices, hana_vec_hana_ml_knowledge, hana_vec_hana_ml_sql_knowledge, iris_data_full_tbl, titanic_full_tbl.\u001b[0m\n",
      "\n",
      "\u001b[1m> Finished chain.\u001b[0m\n"
     ]
    },
    {
     "data": {
      "text/plain": [
       "{'input': 'Show me all the table names',\n",
       " 'output': 'The table names in the database are: boston_housing_prices, hana_vec_hana_ml_knowledge, hana_vec_hana_ml_sql_knowledge, iris_data_full_tbl, titanic_full_tbl.'}"
      ]
     },
     "execution_count": 59,
     "metadata": {},
     "output_type": "execute_result"
    }
   ],
   "source": [
    "agent_executor.invoke(\n",
    "    \"Show me all the table names\"\n",
    ")"
   ]
  },
  {
   "cell_type": "code",
   "execution_count": 60,
   "metadata": {},
   "outputs": [
    {
     "name": "stdout",
     "output_type": "stream",
     "text": [
      "\n",
      "\n",
      "\u001b[1m> Entering new SQL Agent Executor chain...\u001b[0m\n",
      "\u001b[32;1m\u001b[1;3mFirst, I need to confirm if there is a table related to iris in the database.\n",
      "Action: sql_db_list_tables\n",
      "Action Input: \"\"\u001b[0m\u001b[36;1m\u001b[1;3mboston_housing_prices, hana_vec_hana_ml_knowledge, hana_vec_hana_ml_sql_knowledge, iris_data_full_tbl, titanic_full_tbl\u001b[0m\u001b[32;1m\u001b[1;3mThere is a table named 'iris_data_full_tbl' which seems to be related to iris. Now, I need to get the schema of this table to see the column names.\n",
      "Action: sql_db_schema\n",
      "Action Input: \"iris_data_full_tbl\"\u001b[0m\u001b[38;5;200m\u001b[1;3m\n",
      "CREATE TABLE iris_data_full_tbl (\n",
      "\tid INTEGER, \n",
      "\tsepallengthcm DOUBLE, \n",
      "\tsepalwidthcm DOUBLE, \n",
      "\tpetallengthcm DOUBLE, \n",
      "\tpetalwidthcm DOUBLE, \n",
      "\tspecies NVARCHAR(5000)\n",
      ")\n",
      "\n",
      "/*\n",
      "3 rows from iris_data_full_tbl table:\n",
      "id\tsepallengthcm\tsepalwidthcm\tpetallengthcm\tpetalwidthcm\tspecies\n",
      "0\t5.1\t3.5\t1.4\t0.2\tIris-setosa\n",
      "1\t4.9\t3.0\t1.4\t0.2\tIris-setosa\n",
      "2\t4.7\t3.2\t1.3\t0.2\tIris-setosa\n",
      "*/\u001b[0m\u001b[32;1m\u001b[1;3mI now know the column names in the table related to iris.\n",
      "Final Answer: The column names in the table related to iris are: id, sepallengthcm, sepalwidthcm, petallengthcm, petalwidthcm, species.\u001b[0m\n",
      "\n",
      "\u001b[1m> Finished chain.\u001b[0m\n"
     ]
    },
    {
     "data": {
      "text/plain": [
       "{'input': 'show me the column names in the table related to iris',\n",
       " 'output': 'The column names in the table related to iris are: id, sepallengthcm, sepalwidthcm, petallengthcm, petalwidthcm, species.'}"
      ]
     },
     "execution_count": 60,
     "metadata": {},
     "output_type": "execute_result"
    }
   ],
   "source": [
    "agent_executor.invoke(\n",
    "    \"show me the column names in the table related to iris\"\n",
    ")"
   ]
  },
  {
   "cell_type": "code",
   "execution_count": 61,
   "metadata": {},
   "outputs": [
    {
     "name": "stdout",
     "output_type": "stream",
     "text": [
      "\n",
      "\n",
      "\u001b[1m> Entering new SQL Agent Executor chain...\u001b[0m\n",
      "\u001b[32;1m\u001b[1;3mI need to write a SQL query to get the min and max value of sepalwidthcm from the table iris.\n",
      "Action: sql_db_query_checker\n",
      "Action Input: SELECT MIN(sepalwidthcm), MAX(sepalwidthcm) FROM iris\u001b[0m\u001b[33;1m\u001b[1;3mSELECT MIN(sepalwidthcm), MAX(sepalwidthcm) FROM iris\u001b[0m\u001b[32;1m\u001b[1;3mThe query seems to be correct. Now I will execute it.\n",
      "Action: sql_db_query\n",
      "Action Input: SELECT MIN(sepalwidthcm), MAX(sepalwidthcm) FROM iris\u001b[0m\u001b[33;1m\u001b[1;3mError: (hdbcli.dbapi.ProgrammingError) (259, 'invalid table name:  Could not find table/view IRIS in schema PAL_TEST: line 1 col 50 (at pos 49)')\n",
      "[SQL: SELECT MIN(sepalwidthcm), MAX(sepalwidthcm) FROM iris]\n",
      "(Background on this error at: https://sqlalche.me/e/20/f405)\u001b[0m\u001b[32;1m\u001b[1;3mThe error message indicates that the table 'iris' does not exist in the schema 'PAL_TEST'. I need to check the list of tables in the database.\n",
      "Action: sql_db_list_tables\n",
      "Action Input: \"\"\u001b[0m\u001b[36;1m\u001b[1;3mboston_housing_prices, hana_vec_hana_ml_knowledge, hana_vec_hana_ml_sql_knowledge, iris_data_full_tbl, titanic_full_tbl\u001b[0m\u001b[32;1m\u001b[1;3mThe table 'iris' does not exist, but there is a table named 'iris_data_full_tbl'. I should modify the query to use the correct table name.\n",
      "Action: sql_db_query_checker\n",
      "Action Input: SELECT MIN(sepalwidthcm), MAX(sepalwidthcm) FROM iris_data_full_tbl\u001b[0m\u001b[33;1m\u001b[1;3mSELECT MIN(sepalwidthcm), MAX(sepalwidthcm) FROM iris_data_full_tbl\u001b[0m\u001b[32;1m\u001b[1;3mThe query seems to be correct now with the updated table name. I will execute it.\n",
      "Action: sql_db_query\n",
      "Action Input: SELECT MIN(sepalwidthcm), MAX(sepalwidthcm) FROM iris_data_full_tbl\u001b[0m\u001b[33;1m\u001b[1;3m[(2.0, 4.4)]\u001b[0m\u001b[32;1m\u001b[1;3mI now know the final answer\n",
      "Final Answer: The minimum value of sepalwidthcm in the table iris_data_full_tbl is 2.0 and the maximum value is 4.4.\u001b[0m\n",
      "\n",
      "\u001b[1m> Finished chain.\u001b[0m\n"
     ]
    },
    {
     "data": {
      "text/plain": [
       "{'input': 'show me the min and max value of sepalwidthcm in the table iris',\n",
       " 'output': 'The minimum value of sepalwidthcm in the table iris_data_full_tbl is 2.0 and the maximum value is 4.4.'}"
      ]
     },
     "execution_count": 61,
     "metadata": {},
     "output_type": "execute_result"
    }
   ],
   "source": [
    "agent_executor.invoke(\n",
    "    \"show me the min and max value of sepalwidthcm in the table iris\"\n",
    ")"
   ]
  }
 ],
 "metadata": {
  "kernelspec": {
   "display_name": "base",
   "language": "python",
   "name": "python3"
  },
  "language_info": {
   "codemirror_mode": {
    "name": "ipython",
    "version": 3
   },
   "file_extension": ".py",
   "mimetype": "text/x-python",
   "name": "python",
   "nbconvert_exporter": "python",
   "pygments_lexer": "ipython3",
   "version": "3.11.6"
  }
 },
 "nbformat": 4,
 "nbformat_minor": 2
}
