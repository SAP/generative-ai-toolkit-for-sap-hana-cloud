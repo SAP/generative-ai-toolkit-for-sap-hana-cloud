{
 "cells": [
  {
   "cell_type": "code",
   "execution_count": null,
   "metadata": {},
   "outputs": [],
   "source": [
    "from gen_ai_hub.proxy.core.proxy_clients import set_proxy_version\n",
    "from gen_ai_hub.proxy.langchain import init_llm\n"
   ]
  },
  {
   "cell_type": "code",
   "execution_count": null,
   "metadata": {},
   "outputs": [],
   "source": [
    "from hana_ml import dataframe\n",
    "from hana_ml.algorithms.pal.utility import DataSets\n",
    "#from gen_ai_hub.proxy.langchain.init_models import init_llm\n",
    "from hana_ai.tools.toolkit import HANAMLToolkit\n",
    "from hana_ai.vectorstore.embedding_service import GenAIHubEmbeddings\n",
    "from hana_ai.vectorstore.hana_vector_engine import HANAMLinVectorEngine\n",
    "from hana_ai.vectorstore.code_templates import get_code_templates\n",
    "llm = init_llm('gpt-4', temperature=0.0, max_tokens=512)"
   ]
  },
  {
   "cell_type": "code",
   "execution_count": null,
   "metadata": {},
   "outputs": [],
   "source": [
    "url, port, user = \"hana-ml-api.hana-ml.c.ap-cn-1.cloud.sap\", 30015, \"PAL_TEST\"\n",
    "connection_context = dataframe.ConnectionContext(url, port, user)\n",
    "hana_df, _, _, _ = DataSets.load_iris_data(connection_context)\n",
    "hana_df = hana_df.to_head(\"ID\")"
   ]
  },
  {
   "cell_type": "code",
   "execution_count": null,
   "metadata": {},
   "outputs": [],
   "source": [
    "embedding_func = GenAIHubEmbeddings()\n",
    "toolkit = HANAMLToolkit()\n",
    "hana_vec = HANAMLinVectorEngine(connection_context, \"hana_vec_hana_ml_knowledge\")\n",
    "hana_vec.create_knowledge()\n",
    "\n"
   ]
  },
  {
   "cell_type": "code",
   "execution_count": null,
   "metadata": {},
   "outputs": [],
   "source": [
    "connection_context.table(\"hana_vec_hana_ml_knowledge\").head(10).collect()"
   ]
  },
  {
   "cell_type": "code",
   "execution_count": null,
   "metadata": {},
   "outputs": [],
   "source": [
    "toolkit.set_vectordb(hana_vec)"
   ]
  },
  {
   "cell_type": "code",
   "execution_count": null,
   "metadata": {},
   "outputs": [],
   "source": [
    "from hana_ai.smart_dataframe import SmartDataFrame\n",
    "\n",
    "sdf = SmartDataFrame(hana_df)"
   ]
  },
  {
   "cell_type": "code",
   "execution_count": null,
   "metadata": {},
   "outputs": [],
   "source": [
    "sdf.configure(toolkit=toolkit, llm=llm)"
   ]
  },
  {
   "cell_type": "code",
   "execution_count": null,
   "metadata": {},
   "outputs": [],
   "source": [
    "sdf.ask(\"Create dataset report\", verbose=True)"
   ]
  },
  {
   "cell_type": "code",
   "execution_count": null,
   "metadata": {},
   "outputs": [],
   "source": [
    "connection_context.drop_table(\"my_model\")"
   ]
  },
  {
   "cell_type": "code",
   "execution_count": null,
   "metadata": {},
   "outputs": [],
   "source": [
    "sdf.ask(\"Create Automatic Classification model on this dataframe with max_eval_time_mins=10. Provide key is ID, background_size is 100, label is SPECIES and model table is 'my_model' in the fit function and execute it. \", verbose=True)"
   ]
  },
  {
   "cell_type": "code",
   "execution_count": null,
   "metadata": {},
   "outputs": [],
   "source": [
    "connection_context.table(\"my_model\").collect()"
   ]
  },
  {
   "cell_type": "code",
   "execution_count": null,
   "metadata": {},
   "outputs": [],
   "source": [
    "sdf.ask(\"Show the samples of the dataset\", verbose=True)"
   ]
  },
  {
   "cell_type": "code",
   "execution_count": null,
   "metadata": {},
   "outputs": [],
   "source": [
    "new_df = sdf.transform(\"Get first two rows\", verbose=True)"
   ]
  },
  {
   "cell_type": "code",
   "execution_count": null,
   "metadata": {},
   "outputs": [],
   "source": [
    "new_df.shape"
   ]
  },
  {
   "cell_type": "code",
   "execution_count": null,
   "metadata": {},
   "outputs": [],
   "source": [
    "import pandas as pd\n",
    "external_knowledge = get_code_templates(customized_dir=\"external_knowledge\")\n",
    "\n",
    "external_knowledge"
   ]
  },
  {
   "cell_type": "code",
   "execution_count": null,
   "metadata": {},
   "outputs": [],
   "source": [
    "second_hana_vec = HANAMLinVectorEngine(connection_context, \"second_hana_vec_hana_ml_knowledge\")\n",
    "second_hana_vec.upsert_knowledge(external_knowledge)"
   ]
  },
  {
   "cell_type": "code",
   "execution_count": null,
   "metadata": {},
   "outputs": [],
   "source": [
    "# from hana_ai.vectorstore.union_vector_stores import merge_hana_vector_store\n",
    "\n",
    "# cr = merge_hana_vector_store([hana_vec, second_hana_vec], table_name=\"merged_hana_vec_hana_ml_knowledge\")"
   ]
  },
  {
   "cell_type": "code",
   "execution_count": null,
   "metadata": {},
   "outputs": [],
   "source": [
    "from hana_ai.vectorstore.union_vector_stores import UnionVectorStores\n",
    "from hana_ai.vectorstore.corrective_retriever import CorrectiveRetriever\n",
    "\n",
    "uvs = UnionVectorStores([second_hana_vec, hana_vec])\n",
    "cr = CorrectiveRetriever(uvs, llm, max_iter=3, recursion_limit=10)"
   ]
  },
  {
   "cell_type": "code",
   "execution_count": null,
   "metadata": {},
   "outputs": [],
   "source": [
    "toolkit.set_vectordb(uvs)\n",
    "#toolkit.set_vectordb(cr)"
   ]
  },
  {
   "cell_type": "code",
   "execution_count": null,
   "metadata": {},
   "outputs": [],
   "source": [
    "ts_df = DataSets.load_shampoo_data(connection_context)"
   ]
  },
  {
   "cell_type": "code",
   "execution_count": null,
   "metadata": {},
   "outputs": [],
   "source": [
    "s_ts_df = SmartDataFrame(ts_df)\n",
    "s_ts_df.configure(toolkit=toolkit, llm=llm)"
   ]
  },
  {
   "cell_type": "code",
   "execution_count": null,
   "metadata": {},
   "outputs": [],
   "source": [
    "s_ts_df.head(1).collect()"
   ]
  },
  {
   "cell_type": "code",
   "execution_count": null,
   "metadata": {},
   "outputs": [],
   "source": [
    "s_ts_df.ask(\"Create Automatic TimeSeires model on this dataframe. Provide key is ID, endog is SALES and model table is 'my_model_ts' in the fit function and execute it. \", verbose=True)"
   ]
  },
  {
   "cell_type": "code",
   "execution_count": null,
   "metadata": {},
   "outputs": [],
   "source": [
    "connection_context.table(\"my_model_ts\").collect()"
   ]
  }
 ],
 "metadata": {
  "kernelspec": {
   "display_name": "base",
   "language": "python",
   "name": "python3"
  },
  "language_info": {
   "codemirror_mode": {
    "name": "ipython",
    "version": 3
   },
   "file_extension": ".py",
   "mimetype": "text/x-python",
   "name": "python",
   "nbconvert_exporter": "python",
   "pygments_lexer": "ipython3",
   "version": "3.11.6"
  }
 },
 "nbformat": 4,
 "nbformat_minor": 2
}
